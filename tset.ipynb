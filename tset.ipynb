{
  "cells": [
    {
      "cell_type": "code",
      "execution_count": null,
      "metadata": {},
      "outputs": [],
      "source": [
        "x=3\n",
        "y=7\n",
        "x+y"
      ]
    }
  ],
  "metadata": {
    "interpreter": {
      "hash": "98ef1ed1edd44377a87ac94f0505db0455d14ef82608d81d588468cc099fff0a"
    },
    "kernelspec": {
      "display_name": "Python 3.8.9 64-bit",
      "language": "python",
      "name": "python3"
    },
    "language_info": {
      "name": "python",
      "version": "3.8.9"
    },
    "orig_nbformat": 4
  },
  "nbformat": 4,
  "nbformat_minor": 2
}
